{
  "nbformat": 4,
  "nbformat_minor": 0,
  "metadata": {
    "colab": {
      "provenance": []
    },
    "kernelspec": {
      "name": "python3",
      "display_name": "Python 3"
    },
    "language_info": {
      "name": "python"
    }
  },
  "cells": [
    {
      "cell_type": "markdown",
      "source": [
        "# Trabajo práctico 1: Sistemas lineales"
      ],
      "metadata": {
        "id": "D30BQWrPobBP"
      }
    },
    {
      "cell_type": "markdown",
      "source": [
        "Importando PyTorch"
      ],
      "metadata": {
        "id": "ZVynZej2nYdP"
      }
    },
    {
      "cell_type": "code",
      "source": [
        "import torch"
      ],
      "metadata": {
        "id": "_JAPTF0DFIeQ"
      },
      "execution_count": 43,
      "outputs": []
    },
    {
      "cell_type": "markdown",
      "source": [
        "Definiendo función para comparar salidas"
      ],
      "metadata": {
        "id": "BQxRz7WDwSCd"
      }
    },
    {
      "cell_type": "code",
      "source": [
        "def compare_outputs(u, v):\n",
        "    if torch.equal(u, v):\n",
        "        print(\"Las salidas son iguales, se cumple la superposicion y la homogeneidad\")\n",
        "    else:\n",
        "        print(\"Las salidas no son iguales, no se cumple la superposicion y la homogeneidad\")"
      ],
      "metadata": {
        "id": "7Gs81LiOwXy7"
      },
      "execution_count": 44,
      "outputs": []
    },
    {
      "cell_type": "markdown",
      "source": [
        "## Ejercicio 1\n",
        "\n",
        "### Demuestre si los siguientes sistemas L{ } (con entrada u(t) y salida g(t), y h(t) una función cualquiera) son lineales o no lineales"
      ],
      "metadata": {
        "id": "HnSRcLupoX1p"
      }
    },
    {
      "cell_type": "markdown",
      "source": [
        "Creando una entrada un arreglo de 50 valores generados al azar y definiendo ${\\alpha}$ y ${\\beta}$"
      ],
      "metadata": {
        "id": "JdtPDIEmlo7l"
      }
    },
    {
      "cell_type": "code",
      "source": [
        "u1 = torch.rand(50)\n",
        "u2 = torch.rand(50)\n",
        "alpha = torch.rand(1)\n",
        "beta = torch.rand(1)\n",
        "\n",
        "print(f\"Entrada u1(t): \\n{u1}\")\n",
        "print(f\"Entrada u2(t): \\n{u2}\")\n",
        "print(f\"alpha: {alpha}\")\n",
        "print(f\"beta: {beta}\")"
      ],
      "metadata": {
        "colab": {
          "base_uri": "https://localhost:8080/"
        },
        "id": "461DH4Mb5gtC",
        "outputId": "f5f6ffab-95ce-4333-934b-8faa621e7e7b"
      },
      "execution_count": 45,
      "outputs": [
        {
          "output_type": "stream",
          "name": "stdout",
          "text": [
            "Entrada u1(t): \n",
            "tensor([1.7250e-02, 2.0554e-01, 7.6865e-01, 5.1915e-01, 5.6444e-01, 2.7322e-01,\n",
            "        7.3498e-01, 3.1526e-01, 2.5351e-01, 5.6290e-01, 6.5619e-01, 9.7857e-01,\n",
            "        1.1664e-01, 5.3775e-01, 5.4148e-01, 3.0490e-01, 6.8357e-01, 9.0861e-02,\n",
            "        5.3830e-01, 5.3050e-02, 3.1605e-02, 4.2575e-01, 9.5412e-01, 5.8261e-01,\n",
            "        6.6186e-03, 7.4192e-02, 4.7563e-02, 9.8122e-01, 8.3172e-01, 6.9436e-02,\n",
            "        2.8646e-01, 5.4085e-01, 2.9304e-01, 1.3604e-01, 4.5421e-02, 6.0402e-01,\n",
            "        7.0834e-01, 4.6197e-01, 8.5131e-01, 3.2151e-01, 3.7235e-01, 8.3028e-01,\n",
            "        9.3222e-05, 6.2536e-01, 9.7852e-01, 3.3787e-01, 1.4159e-01, 3.8720e-01,\n",
            "        6.3112e-01, 4.9993e-01])\n",
            "Entrada u2(t): \n",
            "tensor([0.4644, 0.2851, 0.3460, 0.6736, 0.1547, 0.5698, 0.9033, 0.7651, 0.2249,\n",
            "        0.0135, 0.3296, 0.9960, 0.7518, 0.6658, 0.6230, 0.8488, 0.7097, 0.9144,\n",
            "        0.3499, 0.6573, 0.9742, 0.8068, 0.7193, 0.2327, 0.4960, 0.2429, 0.1833,\n",
            "        0.0765, 0.0247, 0.6640, 0.8936, 0.2322, 0.7353, 0.1429, 0.2515, 0.3747,\n",
            "        0.8903, 0.6768, 0.0822, 0.2090, 0.9658, 0.4982, 0.1160, 0.3900, 0.7722,\n",
            "        0.5559, 0.5002, 0.4190, 0.6753, 0.4051])\n",
            "alpha: tensor([0.6032])\n",
            "beta: tensor([0.5264])\n"
          ]
        }
      ]
    },
    {
      "cell_type": "markdown",
      "source": [
        "\n",
        "\n",
        "1.   g(t) = u(t) + 3\n",
        "\n",
        "Usando como entrada ${\\alpha}$${u_{1}(t)}$ + ${\\beta}$${u_{2}(t)}$ se tiene:\n",
        "\n",
        "${L\\{{\\alpha}{u_{1}(t)} + {\\beta}{u_{2}(t)}\\}}$ = ${\\alpha}$${u_{1}(t)}$ + ${\\beta}$${u_{2}(t)}$ + 3\n",
        "\n",
        "Para que el sistema sea lineal la salida debe ser:\n",
        "\n",
        "${L\\{g(t)\\}}$ = ${{\\alpha}L\\{u_{1}(t)\\}}$ + ${{\\beta}L\\{u_{2}(t)\\}}$ = ${\\alpha}$(${u_{1}(t)}$ + 3) + ${\\beta}$(${u_{2}(t)}$ + 3)\n",
        "\n",
        "Computando ambos casos:"
      ],
      "metadata": {
        "id": "8MJ0BRnIlZAU"
      }
    },
    {
      "cell_type": "code",
      "source": [
        "L_input = alpha*u1 + (beta*u2) + 3\n",
        "print(f\"alpha*u1 + beta*u2 + 3: \\n{L_input}\\n\")\n",
        "\n",
        "L_linear = alpha*u1 + beta*u2 + 6\n",
        "print(f\"alpha*u1 + beta*u2 + 6: \\n{L_linear}\\n\")\n",
        "\n",
        "compare_outputs(L_input, L_linear)"
      ],
      "metadata": {
        "colab": {
          "base_uri": "https://localhost:8080/"
        },
        "id": "temua8wq5kAF",
        "outputId": "041b353c-9a1b-4413-ddcc-e810a7499ea7"
      },
      "execution_count": 46,
      "outputs": [
        {
          "output_type": "stream",
          "name": "stdout",
          "text": [
            "alpha*u1 + beta*u2 + 3: \n",
            "tensor([3.2548, 3.2741, 3.6458, 3.6678, 3.4219, 3.4647, 3.9188, 3.5929, 3.2713,\n",
            "        3.3467, 3.5693, 4.1146, 3.4661, 3.6748, 3.6546, 3.6307, 3.7859, 3.5361,\n",
            "        3.5089, 3.3780, 3.5319, 3.6815, 3.9542, 3.4739, 3.2651, 3.1726, 3.1252,\n",
            "        3.6322, 3.5147, 3.3914, 3.6432, 3.4485, 3.5638, 3.1573, 3.1598, 3.5616,\n",
            "        3.8959, 3.6349, 3.5568, 3.3039, 3.7330, 3.7631, 3.0611, 3.5825, 3.9968,\n",
            "        3.4964, 3.3487, 3.4541, 3.7362, 3.5148])\n",
            "\n",
            "alpha*u1 + beta*u2 + 6: \n",
            "tensor([6.2548, 6.2741, 6.6458, 6.6678, 6.4219, 6.4647, 6.9188, 6.5929, 6.2713,\n",
            "        6.3467, 6.5693, 7.1146, 6.4661, 6.6748, 6.6546, 6.6307, 6.7859, 6.5361,\n",
            "        6.5089, 6.3780, 6.5319, 6.6815, 6.9542, 6.4739, 6.2651, 6.1726, 6.1252,\n",
            "        6.6322, 6.5147, 6.3914, 6.6432, 6.4485, 6.5638, 6.1573, 6.1598, 6.5616,\n",
            "        6.8959, 6.6349, 6.5568, 6.3039, 6.7330, 6.7631, 6.0611, 6.5825, 6.9968,\n",
            "        6.4964, 6.3487, 6.4541, 6.7362, 6.5148])\n",
            "\n",
            "Las salidas no son iguales, no se cumple la superposicion y la homogeneidad\n"
          ]
        }
      ]
    },
    {
      "cell_type": "markdown",
      "source": [
        "\n",
        "2.   g(t) = u(t)h(t)\n",
        "\n",
        "Usando como entrada ${\\alpha}$${u_{1}(t)}$ + ${\\beta}$${u_{2}(t)}$ se tiene:\n",
        "\n",
        "${L\\{{\\alpha}{u_{1}(t)} + {\\beta}{u_{2}(t)}\\}}$ = ${\\alpha}$${u_{1}(t)}$h(t) + ${\\beta}$${u_{2}(t)}$h(t)\n",
        "\n",
        "Para que el sistema sea lineal la salida debe ser:\n",
        "\n",
        "${L\\{g(t)\\}}$ = ${{\\alpha}L\\{u_{1}(t)\\}}$ + ${{\\beta}L\\{u_{2}(t)\\}}$ = ${\\alpha}$${u_{1}(t)}$h(t) + ${\\beta}$${u_{2}(t)}$h(t)\n",
        "\n",
        "y h(t) es constante e independiente de u(t)\n",
        "\n",
        "Computando ambos casos:"
      ],
      "metadata": {
        "id": "gOp23wOzw67K"
      }
    },
    {
      "cell_type": "code",
      "source": [
        "# Creando una funcion h cualquiera\n",
        "h = torch.rand(50)\n",
        "\n",
        "L_input = (alpha*u1*h) + (beta*u2*h)\n",
        "print(f\"(alpha*u*h) + (beta*u*h): \\n{L_input}\\n\")\n",
        "\n",
        "L_linear = (alpha*u1*h) + (beta*u2*h)\n",
        "print(f\"(alpha*u*h) + (beta*u*h): \\n{L_linear}\\n\")\n",
        "\n",
        "compare_outputs(L_input, L_linear)"
      ],
      "metadata": {
        "colab": {
          "base_uri": "https://localhost:8080/"
        },
        "id": "RP7GbJREzVkq",
        "outputId": "f450eabb-64d4-4a3a-c3e9-6cf473d76866"
      },
      "execution_count": 47,
      "outputs": [
        {
          "output_type": "stream",
          "name": "stdout",
          "text": [
            "(alpha*u*h) + (beta*u*h): \n",
            "tensor([0.1617, 0.0710, 0.6067, 0.4222, 0.2157, 0.1256, 0.6885, 0.1512, 0.0849,\n",
            "        0.3092, 0.5533, 0.8334, 0.0011, 0.1299, 0.0201, 0.0185, 0.1988, 0.1935,\n",
            "        0.0797, 0.1365, 0.2358, 0.3095, 0.2589, 0.1714, 0.1003, 0.1715, 0.1045,\n",
            "        0.3174, 0.0062, 0.0183, 0.2508, 0.1989, 0.4470, 0.0207, 0.1568, 0.3312,\n",
            "        0.7280, 0.1373, 0.5565, 0.2360, 0.0324, 0.6426, 0.0359, 0.0571, 0.3599,\n",
            "        0.0393, 0.3348, 0.4353, 0.1020, 0.1689])\n",
            "\n",
            "(alpha*u*h) + (beta*u*h): \n",
            "tensor([0.1617, 0.0710, 0.6067, 0.4222, 0.2157, 0.1256, 0.6885, 0.1512, 0.0849,\n",
            "        0.3092, 0.5533, 0.8334, 0.0011, 0.1299, 0.0201, 0.0185, 0.1988, 0.1935,\n",
            "        0.0797, 0.1365, 0.2358, 0.3095, 0.2589, 0.1714, 0.1003, 0.1715, 0.1045,\n",
            "        0.3174, 0.0062, 0.0183, 0.2508, 0.1989, 0.4470, 0.0207, 0.1568, 0.3312,\n",
            "        0.7280, 0.1373, 0.5565, 0.2360, 0.0324, 0.6426, 0.0359, 0.0571, 0.3599,\n",
            "        0.0393, 0.3348, 0.4353, 0.1020, 0.1689])\n",
            "\n",
            "Las salidas son iguales, se cumple la superposicion y la homogeneidad\n"
          ]
        }
      ]
    },
    {
      "cell_type": "markdown",
      "source": [
        "\n",
        "3.   g(t) = max(u(t))\n",
        "\n",
        "Usando como entrada ${\\alpha}$${u_{1}(t)}$ + ${\\beta}$${u_{2}(t)}$ se tiene:\n",
        "\n",
        "${L\\{{\\alpha}{u_{1}(t)} + {\\beta}{u_{2}(t)}\\}}$ = max(${{\\alpha}{u_{1}(t)} + {\\beta}{u_{2}(t)}}$)\n",
        "\n",
        "\n",
        "Para que el sistema sea lineal la salida debe ser:\n",
        "\n",
        "${L\\{g(t)\\}}$ = ${{\\alpha}L\\{u_{1}(t)\\}}$ + ${{\\beta}L\\{u_{2}(t)\\}}$ = ${\\alpha}$max(${u_{1}(t)}$) + ${\\beta}$max(${u_{2}(t)}$)\n",
        "\n",
        "Computando ambos casos:"
      ],
      "metadata": {
        "id": "9YCw5UHM0D87"
      }
    },
    {
      "cell_type": "code",
      "source": [
        "L_input = torch.max(alpha*u1 + beta*u2)\n",
        "print(f\"max(alpha*u1 + beta*u2): \\n{L_input}\\n\")\n",
        "\n",
        "L_linear = alpha*torch.max(u1) + beta*torch.max(u2)\n",
        "print(f\"alpha*torch.max(u1) + beta*torch.max(u2): \\n{L_linear}\\n\")\n",
        "\n",
        "compare_outputs(L_input, L_linear)"
      ],
      "metadata": {
        "colab": {
          "base_uri": "https://localhost:8080/"
        },
        "id": "0daH572o197m",
        "outputId": "90657b68-6c80-448c-c6fe-b0410a2add89"
      },
      "execution_count": 48,
      "outputs": [
        {
          "output_type": "stream",
          "name": "stdout",
          "text": [
            "max(alpha*u1 + beta*u2): \n",
            "1.1145769357681274\n",
            "\n",
            "alpha*torch.max(u1) + beta*torch.max(u2): \n",
            "tensor([1.1162])\n",
            "\n",
            "Las salidas no son iguales, no se cumple la superposicion y la homogeneidad\n"
          ]
        }
      ]
    },
    {
      "cell_type": "markdown",
      "source": [
        "\n",
        "4.   g(t) = |u(t)|\n",
        "\n",
        "Usando como entrada ${\\alpha}$${u_{1}(t)}$ + ${\\beta}$${u_{2}(t)}$ se tiene:\n",
        "\n",
        "${L\\{{\\alpha}{u_{1}(t)} + {\\beta}{u_{2}(t)}\\}}$ = |${{\\alpha}{u_{1}(t)} + {\\beta}{u_{2}(t)}}$|\n",
        "\n",
        "Para que el sistema sea lineal la salida debe ser:\n",
        "\n",
        "${L\\{g(t)\\}}$ = ${\\alpha}$|${u_{1}(t)}$| + ${\\beta}$|${u_{2}(t)}$|\n",
        "\n",
        "Computando ambos casos:"
      ],
      "metadata": {
        "id": "_wJdYFYF5PuD"
      }
    },
    {
      "cell_type": "code",
      "source": [
        "L_input = torch.abs(alpha*u1 + beta*u2)\n",
        "print(f\"|alpha*u1 + beta*u2|: \\n{L_input}\\n\")\n",
        "\n",
        "L_linear = alpha*torch.abs(u1) + beta*torch.abs(u2)\n",
        "print(f\"alpha*torch.max(u1) + beta*torch.max(u2): \\n{L_linear}\\n\")\n",
        "\n",
        "compare_outputs(L_input, L_linear)"
      ],
      "metadata": {
        "colab": {
          "base_uri": "https://localhost:8080/"
        },
        "id": "a82qXA0G6qcS",
        "outputId": "e9c95929-9c59-41db-eab6-c82c3478f238"
      },
      "execution_count": 49,
      "outputs": [
        {
          "output_type": "stream",
          "name": "stdout",
          "text": [
            "|alpha*u1 + beta*u2|: \n",
            "tensor([0.2548, 0.2741, 0.6458, 0.6678, 0.4219, 0.4647, 0.9188, 0.5929, 0.2713,\n",
            "        0.3467, 0.5693, 1.1146, 0.4661, 0.6748, 0.6546, 0.6307, 0.7859, 0.5361,\n",
            "        0.5089, 0.3780, 0.5319, 0.6815, 0.9542, 0.4739, 0.2651, 0.1726, 0.1252,\n",
            "        0.6322, 0.5147, 0.3914, 0.6432, 0.4485, 0.5638, 0.1573, 0.1598, 0.5616,\n",
            "        0.8959, 0.6349, 0.5568, 0.3039, 0.7330, 0.7631, 0.0611, 0.5825, 0.9968,\n",
            "        0.4964, 0.3487, 0.4541, 0.7362, 0.5148])\n",
            "\n",
            "alpha*torch.max(u1) + beta*torch.max(u2): \n",
            "tensor([0.2548, 0.2741, 0.6458, 0.6678, 0.4219, 0.4647, 0.9188, 0.5929, 0.2713,\n",
            "        0.3467, 0.5693, 1.1146, 0.4661, 0.6748, 0.6546, 0.6307, 0.7859, 0.5361,\n",
            "        0.5089, 0.3780, 0.5319, 0.6815, 0.9542, 0.4739, 0.2651, 0.1726, 0.1252,\n",
            "        0.6322, 0.5147, 0.3914, 0.6432, 0.4485, 0.5638, 0.1573, 0.1598, 0.5616,\n",
            "        0.8959, 0.6349, 0.5568, 0.3039, 0.7330, 0.7631, 0.0611, 0.5825, 0.9968,\n",
            "        0.4964, 0.3487, 0.4541, 0.7362, 0.5148])\n",
            "\n",
            "Las salidas son iguales, se cumple la superposicion y la homogeneidad\n"
          ]
        }
      ]
    },
    {
      "cell_type": "markdown",
      "source": [
        "## Ejercicio 2\n",
        "\n",
        "### Demuestre si los siguientes sistemas con múltiples variables de entrada L{ } (con entrada vectorial \\vec{u} y salida escalar s ϵ ${\\mathbb{R}}$ cumplen homogeneidad y superposición"
      ],
      "metadata": {
        "id": "S2WrprlXCp3x"
      }
    },
    {
      "cell_type": "markdown",
      "source": [
        "Creando 50 vectores de dimesión (1x5) al azar de dimensionalidad y definiendo ${\\alpha}$ y ${\\beta}$\n",
        "\n"
      ],
      "metadata": {
        "id": "RXUBP99CG9dD"
      }
    },
    {
      "cell_type": "code",
      "source": [
        "u1 = torch.rand(50, 5)\n",
        "u2 = torch.rand(50, 5)\n",
        "alpha = torch.rand(1)\n",
        "beta = torch.rand(1)\n",
        "\n",
        "print(f\"Entradas u1(t): \\n{u1}\")\n",
        "print(f\"Entradas u2(t): \\n{u2}\")\n",
        "print(f\"alpha: {alpha}\")\n",
        "print(f\"beta: {beta}\")"
      ],
      "metadata": {
        "colab": {
          "base_uri": "https://localhost:8080/"
        },
        "id": "ebft8HKSHDcS",
        "outputId": "7ae4fe19-fc44-4278-a7b5-210187360d3a"
      },
      "execution_count": 50,
      "outputs": [
        {
          "output_type": "stream",
          "name": "stdout",
          "text": [
            "Entradas u1(t): \n",
            "tensor([[0.4000, 0.6810, 0.0532, 0.7226, 0.5156],\n",
            "        [0.2346, 0.9395, 0.8701, 0.2825, 0.2733],\n",
            "        [0.2478, 0.0458, 0.7411, 0.6674, 0.8444],\n",
            "        [0.4803, 0.9300, 0.5280, 0.5577, 0.2295],\n",
            "        [0.0400, 0.7318, 0.8202, 0.9026, 0.9671],\n",
            "        [0.4675, 0.5287, 0.0111, 0.3143, 0.5616],\n",
            "        [0.9390, 0.1620, 0.8239, 0.1707, 0.5304],\n",
            "        [0.3491, 0.0747, 0.6539, 0.2629, 0.6196],\n",
            "        [0.1213, 0.2473, 0.0585, 0.4831, 0.6223],\n",
            "        [0.2722, 0.9604, 0.5929, 0.9283, 0.7530],\n",
            "        [0.0083, 0.1466, 0.8658, 0.3824, 0.3289],\n",
            "        [0.8167, 0.4923, 0.1574, 0.0308, 0.2937],\n",
            "        [0.9888, 0.5301, 0.7602, 0.9958, 0.7252],\n",
            "        [0.4675, 0.9371, 0.1171, 0.5565, 0.5322],\n",
            "        [0.7294, 0.3657, 0.0893, 0.5135, 0.0035],\n",
            "        [0.6132, 0.3578, 0.4581, 0.0406, 0.6836],\n",
            "        [0.5426, 0.3022, 0.8966, 0.4523, 0.0243],\n",
            "        [0.3260, 0.6571, 0.0902, 0.0731, 0.6889],\n",
            "        [0.2120, 0.1080, 0.1066, 0.2034, 0.1679],\n",
            "        [0.0706, 0.2118, 0.5444, 0.4263, 0.8705],\n",
            "        [0.3033, 0.2550, 0.8546, 0.5605, 0.1586],\n",
            "        [0.5909, 0.2598, 0.1480, 0.6262, 0.4625],\n",
            "        [0.3576, 0.0245, 0.9733, 0.3532, 0.5153],\n",
            "        [0.5211, 0.9109, 0.6005, 0.3055, 0.0300],\n",
            "        [0.5651, 0.7649, 0.1584, 0.1880, 0.7448],\n",
            "        [0.5887, 0.7448, 0.0478, 0.2831, 0.3500],\n",
            "        [0.7084, 0.7149, 0.6988, 0.0215, 0.5895],\n",
            "        [0.6418, 0.8300, 0.1159, 0.9999, 0.4231],\n",
            "        [0.0260, 0.4897, 0.2198, 0.6154, 0.8831],\n",
            "        [0.3880, 0.8904, 0.3716, 0.1182, 0.1471],\n",
            "        [0.4317, 0.7578, 0.6645, 0.8797, 0.3335],\n",
            "        [0.0829, 0.0535, 0.6097, 0.3603, 0.8342],\n",
            "        [0.2420, 0.3868, 0.8551, 0.8180, 0.5124],\n",
            "        [0.9759, 0.9571, 0.1411, 0.0717, 0.0798],\n",
            "        [0.8617, 0.5552, 0.9279, 0.2124, 0.2456],\n",
            "        [0.6828, 0.6337, 0.5230, 0.5227, 0.2218],\n",
            "        [0.2224, 0.5474, 0.6644, 0.2641, 0.3926],\n",
            "        [0.1724, 0.2753, 0.2261, 0.1647, 0.1642],\n",
            "        [0.4667, 0.3971, 0.7468, 0.1171, 0.4377],\n",
            "        [0.0447, 0.3362, 0.5409, 0.3809, 0.0544],\n",
            "        [0.8127, 0.1349, 0.1994, 0.9507, 0.0127],\n",
            "        [0.7391, 0.6552, 0.8776, 0.9772, 0.1359],\n",
            "        [0.1512, 0.9036, 0.3286, 0.0968, 0.5204],\n",
            "        [0.9973, 0.5121, 0.2353, 0.4604, 0.1147],\n",
            "        [0.6698, 0.1672, 0.5443, 0.0151, 0.0898],\n",
            "        [0.4606, 0.4255, 0.6593, 0.8140, 0.5706],\n",
            "        [0.5271, 0.7290, 0.1369, 0.5790, 0.2045],\n",
            "        [0.7310, 0.9235, 0.7013, 0.9661, 0.6073],\n",
            "        [0.5000, 0.9606, 0.2162, 0.7315, 0.6733],\n",
            "        [0.1004, 0.2002, 0.3618, 0.0383, 0.0173]])\n",
            "Entradas u2(t): \n",
            "tensor([[0.6042, 0.6214, 0.3155, 0.2778, 0.4840],\n",
            "        [0.4767, 0.8876, 0.1833, 0.2583, 0.7785],\n",
            "        [0.0834, 0.6769, 0.4313, 0.5433, 0.9399],\n",
            "        [0.3446, 0.5523, 0.7357, 0.5606, 0.4478],\n",
            "        [0.2231, 0.4262, 0.2282, 0.4840, 0.1594],\n",
            "        [0.8934, 0.4017, 0.6692, 0.3649, 0.0202],\n",
            "        [0.5670, 0.1666, 0.3362, 0.8256, 0.3732],\n",
            "        [0.4549, 0.5976, 0.4845, 0.9817, 0.9053],\n",
            "        [0.8559, 0.5744, 0.1074, 0.6429, 0.5943],\n",
            "        [0.3952, 0.0447, 0.5407, 0.9817, 0.6269],\n",
            "        [0.6894, 0.6606, 0.4069, 0.1871, 0.4391],\n",
            "        [0.5390, 0.5064, 0.4997, 0.0335, 0.0609],\n",
            "        [0.1004, 0.5094, 0.1428, 0.7426, 0.9896],\n",
            "        [0.9075, 0.1365, 0.7738, 0.2165, 0.7396],\n",
            "        [0.7654, 0.8646, 0.3711, 0.5983, 0.7755],\n",
            "        [0.3425, 0.5285, 0.6335, 0.7797, 0.5143],\n",
            "        [0.8344, 0.3147, 0.0083, 0.2978, 0.1771],\n",
            "        [0.0181, 0.8726, 0.1521, 0.5668, 0.2081],\n",
            "        [0.4515, 0.7704, 0.9241, 0.4912, 0.4585],\n",
            "        [0.5018, 0.7621, 0.2238, 0.0097, 0.5530],\n",
            "        [0.5939, 0.9213, 0.1605, 0.2716, 0.3478],\n",
            "        [0.4210, 0.8224, 0.2446, 0.2486, 0.9036],\n",
            "        [0.6958, 0.3754, 0.9172, 0.0669, 0.7132],\n",
            "        [0.0044, 0.2176, 0.3284, 0.1773, 0.5576],\n",
            "        [0.5949, 0.4925, 0.8016, 0.0379, 0.6788],\n",
            "        [0.1908, 0.0283, 0.9279, 0.7777, 0.0411],\n",
            "        [0.9169, 0.6746, 0.9828, 0.8890, 0.7059],\n",
            "        [0.8929, 0.5432, 0.0715, 0.7879, 0.3458],\n",
            "        [0.8704, 0.1351, 0.7668, 0.2206, 0.0342],\n",
            "        [0.3729, 0.4268, 0.9670, 0.4364, 0.9278],\n",
            "        [0.2897, 0.7721, 0.3631, 0.1306, 0.6420],\n",
            "        [0.7607, 0.8702, 0.1520, 0.0643, 0.2584],\n",
            "        [0.9717, 0.5453, 0.4462, 0.8404, 0.1450],\n",
            "        [0.1454, 0.0902, 0.5405, 0.4362, 0.8285],\n",
            "        [0.0690, 0.9362, 0.6867, 0.4566, 0.6483],\n",
            "        [0.4083, 0.5912, 0.6868, 0.2396, 0.7937],\n",
            "        [0.2858, 0.6494, 0.8447, 0.2342, 0.8064],\n",
            "        [0.3240, 0.1362, 0.9243, 0.6035, 0.7070],\n",
            "        [0.4673, 0.7904, 0.9863, 0.9980, 0.3772],\n",
            "        [0.8126, 0.6570, 0.9505, 0.4806, 0.8817],\n",
            "        [0.2786, 0.8944, 0.1727, 0.4975, 0.1323],\n",
            "        [0.9849, 0.9494, 0.6285, 0.0891, 0.1337],\n",
            "        [0.1249, 0.2100, 0.3383, 0.2576, 0.7212],\n",
            "        [0.2786, 0.3039, 0.1334, 0.2207, 0.7715],\n",
            "        [0.5778, 0.9062, 0.2861, 0.1338, 0.7773],\n",
            "        [0.4819, 0.4161, 0.5189, 0.4485, 0.7697],\n",
            "        [0.8980, 0.1243, 0.1224, 0.3108, 0.9280],\n",
            "        [0.9415, 0.7836, 0.8469, 0.0562, 0.5796],\n",
            "        [0.2789, 0.4940, 0.5035, 0.3661, 0.5774],\n",
            "        [0.2394, 0.9106, 0.5174, 0.6683, 0.5095]])\n",
            "alpha: tensor([0.8002])\n",
            "beta: tensor([0.4019])\n"
          ]
        }
      ]
    },
    {
      "cell_type": "markdown",
      "source": [
        "\n",
        "\n",
        "1.   Norma de Manhattan ${\\ell_{1}}$\n",
        "\n",
        "Usando como entrada ${\\vec{u}}$ = ${\\alpha}$${\\vec{u}_{1}}$ + ${\\beta}$${\\vec{u}_{2}}$ se tiene:\n",
        "\n",
        "${||\\vec{u}||_{1}}$ = ${\\sum_{i=1}^{n}|\\alpha u_{1i} + \\beta u_{2i}|}$\n",
        "\n",
        "Para que el sistema sea lineal la salida debe ser:\n",
        "\n",
        "${||\\vec{u}||_{1}}$ = ${|\\alpha|}$${\\sum_{i=1}^{n}|\\vec{u}_{1i}|}$ + ${|\\beta|}$${\\sum_{i=1}^{n}|\\vec{u}_{2i}|}$\n",
        "\n",
        "Computando ambos casos:"
      ],
      "metadata": {
        "id": "1a3g7Ws_UEH_"
      }
    },
    {
      "cell_type": "code",
      "source": [
        "L_input = torch.norm(alpha*u1 + beta*u2, p=1, dim=1)\n",
        "\n",
        "print(f\"||alpha*u1 + beta*u2||_1: \\n{L_input}\\n\")\n",
        "\n",
        "L_linear = torch.abs(alpha)*torch.sum(torch.abs(u1), dim=1) + torch.abs(beta)*torch.sum(torch.abs(u2), dim=1)\n",
        "print(f\"||alpha*u1 + beta*u2||_1: \\n{L_linear}\\n\")\n",
        "\n",
        "compare_outputs(L_input, L_linear)"
      ],
      "metadata": {
        "colab": {
          "base_uri": "https://localhost:8080/"
        },
        "id": "TOA12XpjYnPB",
        "outputId": "bf767f84-8071-4f7b-fcfc-8a9358a9e9e5"
      },
      "execution_count": 51,
      "outputs": [
        {
          "output_type": "stream",
          "name": "stdout",
          "text": [
            "||alpha*u1 + beta*u2||_1: \n",
            "tensor([2.8239, 3.1191, 3.1126, 3.2423, 3.3812, 2.4512, 3.0129, 2.9445, 2.3415,\n",
            "        3.8467, 2.3436, 2.0919, 4.1993, 3.2036, 2.7177, 2.8478, 2.4309, 2.1991,\n",
            "        1.8826, 2.5233, 2.6283, 2.7314, 2.8921, 2.4113, 2.9845, 2.4020, 3.8626,\n",
            "        3.4706, 2.6022, 2.7909, 3.3375, 2.3990, 3.4370, 2.6011, 3.3668, 3.1606,\n",
            "        2.8067, 1.8854, 3.1873, 2.6061, 2.4826, 3.8282, 2.2648, 2.5426, 2.2667,\n",
            "        3.4035, 2.6994, 4.4334, 3.3580, 1.7180])\n",
            "\n",
            "||alpha*u1 + beta*u2||_1: \n",
            "tensor([2.8239, 3.1191, 3.1126, 3.2423, 3.3812, 2.4512, 3.0129, 2.9445, 2.3415,\n",
            "        3.8467, 2.3436, 2.0919, 4.1993, 3.2036, 2.7177, 2.8478, 2.4309, 2.1991,\n",
            "        1.8826, 2.5233, 2.6283, 2.7314, 2.8921, 2.4113, 2.9845, 2.4020, 3.8626,\n",
            "        3.4706, 2.6022, 2.7909, 3.3375, 2.3990, 3.4370, 2.6011, 3.3668, 3.1606,\n",
            "        2.8067, 1.8854, 3.1873, 2.6061, 2.4826, 3.8282, 2.2648, 2.5426, 2.2667,\n",
            "        3.4035, 2.6994, 4.4334, 3.3580, 1.7180])\n",
            "\n",
            "Las salidas no son iguales, no se cumple la superposicion y la homogeneidad\n"
          ]
        }
      ]
    },
    {
      "cell_type": "markdown",
      "source": [
        "\n",
        "2.   Norma Euclidiana ${\\ell_{2}}$\n",
        "\n",
        "Usando como entrada ${\\vec{u}}$ = ${\\alpha}$${\\vec{u}_{1}}$ + ${\\beta}$${\\vec{u}_{2}}$ se tiene:\n",
        "\n",
        "${||\\vec{u}||_{2}}$ = ${\\sqrt{ \\sum_{i=1}^{n} (\\alpha u_{1i} + \\beta u_{2i})^{2} }}$\n",
        "\n",
        "Para que el sistema sea lineal la salida debe ser:\n",
        "\n",
        "${||\\vec{u}||_{2}}$ = ${|\\alpha|}$${\\sqrt{ \\sum_{i=1}^{n} (u_{1i})^{2} }}$ + ${\\beta}$${\\sqrt{ \\sum_{i=1}^{n} (u_{2i})^{2} }}$\n",
        "\n",
        "Computando ambos casos:"
      ],
      "metadata": {
        "id": "owL5KOQWnreQ"
      }
    },
    {
      "cell_type": "code",
      "source": [
        "L_input = torch.norm(alpha*u1 + beta*u2, p=2, dim=1)\n",
        "\n",
        "print(f\"||alpha*u1 + beta*u2||_2: \\n{L_input}\\n\")\n",
        "\n",
        "L_linear = torch.abs(alpha)*torch.sqrt(torch.sum(torch.pow(u1, 2), dim=1)) + torch.abs(beta)*torch.sqrt(torch.sum(torch.pow(u2, 2), dim=1))\n",
        "print(f\"||alpha*u1 + beta*u2||_2: \\n{L_linear}\\n\")\n",
        "\n",
        "compare_outputs(L_input, L_linear)"
      ],
      "metadata": {
        "colab": {
          "base_uri": "https://localhost:8080/"
        },
        "id": "wrpHloVWp8s9",
        "outputId": "e67bbf16-a526-4b74-e704-53ab85d72a61"
      },
      "execution_count": 52,
      "outputs": [
        {
          "output_type": "stream",
          "name": "stdout",
          "text": [
            "||alpha*u1 + beta*u2||_2: \n",
            "tensor([1.3496, 1.5351, 1.5531, 1.5185, 1.6400, 1.1507, 1.4758, 1.3870, 1.1598,\n",
            "        1.8063, 1.1397, 1.1356, 1.9199, 1.4709, 1.3326, 1.3104, 1.2196, 1.1588,\n",
            "        0.8485, 1.2379, 1.2262, 1.2837, 1.5000, 1.1739, 1.4552, 1.1030, 1.7908,\n",
            "        1.7406, 1.1947, 1.3333, 1.5364, 1.1347, 1.6033, 1.2917, 1.5996, 1.4328,\n",
            "        1.3542, 0.8749, 1.4844, 1.2189, 1.3337, 1.8444, 1.1713, 1.2409, 1.1371,\n",
            "        1.5472, 1.2933, 2.0004, 1.5714, 0.8323])\n",
            "\n",
            "||alpha*u1 + beta*u2||_2: \n",
            "tensor([1.3850, 1.6154, 1.6085, 1.5438, 1.6728, 1.2632, 1.5574, 1.4492, 1.2146,\n",
            "        1.8737, 1.2694, 1.1685, 2.0077, 1.6176, 1.4013, 1.3897, 1.3296, 1.2414,\n",
            "        0.8795, 1.3454, 1.3655, 1.3558, 1.5343, 1.2816, 1.5105, 1.3346, 1.8454,\n",
            "        1.7565, 1.4405, 1.4562, 1.6038, 1.3597, 1.6863, 1.5428, 1.7022, 1.4883,\n",
            "        1.3631, 0.9127, 1.5446, 1.2930, 1.4544, 1.9279, 1.2371, 1.3586, 1.2551,\n",
            "        1.5653, 1.4167, 2.0699, 1.5994, 0.8903])\n",
            "\n",
            "Las salidas no son iguales, no se cumple la superposicion y la homogeneidad\n"
          ]
        }
      ]
    },
    {
      "cell_type": "markdown",
      "source": [
        "\n",
        "\n",
        "3.   Norma ${\\ell_{\\infty}}$\n",
        "\n",
        "Usando como entrada ${\\vec{u}}$ = ${\\alpha}$${\\vec{u}_{1}}$ + ${\\beta}$${\\vec{u}_{2}}$ se tiene:\n",
        "\n",
        "${||\\vec{u}||_{\\infty}}$ $\\approx$ ${max(|\\alpha u_{1i} + \\beta u_{2i}|)}$\n",
        "\n",
        "Para que el sistema sea lineal la salida debe ser:\n",
        "\n",
        "${||\\vec{u}||_{\\infty}}$ $\\approx$ ${|\\alpha|}$max(${u_{1i}}$) + ${|\\beta|}$max(${u_{2i}}$)\n",
        "\n",
        "Computando ambos casos:"
      ],
      "metadata": {
        "id": "aJBtdc2irm0q"
      }
    },
    {
      "cell_type": "code",
      "source": [
        "L_input = torch.norm(alpha*u1 + beta*u2, p=torch.inf, dim=1)\n",
        "\n",
        "print(f\"||alpha*u1 + beta*u2||_inf: \\n{L_input}\\n\")\n",
        "\n",
        "L_linear = torch.abs(alpha) * torch.max(torch.abs(u1), dim=1)[0] + torch.abs(beta) * torch.max(torch.abs(u2), dim=1)[0]\n",
        "print(f\"||alpha*u1 + beta*u2||_inf: \\n{L_linear}\\n\")\n",
        "\n",
        "compare_outputs(L_input, L_linear)"
      ],
      "metadata": {
        "colab": {
          "base_uri": "https://localhost:8080/"
        },
        "id": "Wt9md-1Pt_3i",
        "outputId": "5ea44c4e-de71-4820-b2fb-216e01a168ec"
      },
      "execution_count": 53,
      "outputs": [
        {
          "output_type": "stream",
          "name": "stdout",
          "text": [
            "||alpha*u1 + beta*u2||_inf: \n",
            "tensor([0.7947, 1.1085, 1.0534, 0.9662, 0.9168, 0.7332, 0.9792, 0.8596, 0.7368,\n",
            "        1.1374, 0.8563, 0.8702, 1.0953, 0.8047, 0.8913, 0.7537, 0.7695, 0.8764,\n",
            "        0.4567, 0.9188, 0.7483, 0.7333, 1.1474, 0.8163, 0.8688, 0.6074, 0.9541,\n",
            "        1.1167, 0.7203, 0.8841, 0.9167, 0.7714, 0.9923, 0.8394, 1.0184, 0.7447,\n",
            "        0.8711, 0.5524, 0.9940, 0.8148, 0.9606, 0.9872, 0.8075, 0.9100, 0.7681,\n",
            "        0.8316, 0.7827, 1.0539, 0.9671, 0.5261])\n",
            "\n",
            "||alpha*u1 + beta*u2||_inf: \n",
            "tensor([0.8280, 1.1085, 1.0534, 1.0399, 0.9683, 0.8084, 1.0832, 0.9177, 0.8419,\n",
            "        1.1631, 0.9699, 0.8702, 1.1945, 1.1146, 0.9311, 0.8604, 1.0528, 0.9019,\n",
            "        0.5411, 1.0028, 1.0541, 0.8643, 1.1474, 0.9530, 0.9342, 0.9689, 0.9670,\n",
            "        1.1589, 1.0564, 1.1011, 1.0142, 1.0172, 1.0748, 1.1139, 1.1187, 0.8654,\n",
            "        0.8711, 0.5918, 0.9987, 0.8148, 1.1202, 1.1778, 1.0129, 1.1081, 0.9001,\n",
            "        0.9606, 0.9562, 1.1515, 1.0007, 0.6555])\n",
            "\n",
            "Las salidas no son iguales, no se cumple la superposicion y la homogeneidad\n"
          ]
        }
      ]
    }
  ]
}